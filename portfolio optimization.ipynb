{
 "cells": [
  {
   "cell_type": "code",
   "execution_count": 1,
   "id": "da48a13e",
   "metadata": {},
   "outputs": [
    {
     "name": "stdout",
     "output_type": "stream",
     "text": [
      "Requirement already satisfied: yfinance in c:\\users\\dazyy\\anaconda3\\lib\\site-packages (0.1.70)\n",
      "Requirement already satisfied: multitasking>=0.0.7 in c:\\users\\dazyy\\anaconda3\\lib\\site-packages (from yfinance) (0.0.10)\n",
      "Requirement already satisfied: lxml>=4.5.1 in c:\\users\\dazyy\\anaconda3\\lib\\site-packages (from yfinance) (4.6.3)\n",
      "Requirement already satisfied: pandas>=0.24.0 in c:\\users\\dazyy\\anaconda3\\lib\\site-packages (from yfinance) (1.2.4)\n",
      "Requirement already satisfied: numpy>=1.15 in c:\\users\\dazyy\\anaconda3\\lib\\site-packages (from yfinance) (1.20.1)\n",
      "Requirement already satisfied: requests>=2.26 in c:\\users\\dazyy\\anaconda3\\lib\\site-packages (from yfinance) (2.27.1)\n",
      "Requirement already satisfied: pytz>=2017.3 in c:\\users\\dazyy\\anaconda3\\lib\\site-packages (from pandas>=0.24.0->yfinance) (2021.1)\n",
      "Requirement already satisfied: python-dateutil>=2.7.3 in c:\\users\\dazyy\\anaconda3\\lib\\site-packages (from pandas>=0.24.0->yfinance) (2.8.1)\n",
      "Requirement already satisfied: six>=1.5 in c:\\users\\dazyy\\anaconda3\\lib\\site-packages (from python-dateutil>=2.7.3->pandas>=0.24.0->yfinance) (1.15.0)\n",
      "Requirement already satisfied: idna<4,>=2.5 in c:\\users\\dazyy\\anaconda3\\lib\\site-packages (from requests>=2.26->yfinance) (2.10)\n",
      "Requirement already satisfied: certifi>=2017.4.17 in c:\\users\\dazyy\\anaconda3\\lib\\site-packages (from requests>=2.26->yfinance) (2020.12.5)\n",
      "Requirement already satisfied: charset-normalizer~=2.0.0 in c:\\users\\dazyy\\anaconda3\\lib\\site-packages (from requests>=2.26->yfinance) (2.0.12)\n",
      "Requirement already satisfied: urllib3<1.27,>=1.21.1 in c:\\users\\dazyy\\anaconda3\\lib\\site-packages (from requests>=2.26->yfinance) (1.26.4)\n",
      "Requirement already satisfied: yahoofinancials in c:\\users\\dazyy\\anaconda3\\lib\\site-packages (1.6)\n",
      "Requirement already satisfied: beautifulsoup4 in c:\\users\\dazyy\\anaconda3\\lib\\site-packages (from yahoofinancials) (4.9.3)\n",
      "Requirement already satisfied: pytz in c:\\users\\dazyy\\anaconda3\\lib\\site-packages (from yahoofinancials) (2021.1)\n",
      "Requirement already satisfied: soupsieve>1.2 in c:\\users\\dazyy\\anaconda3\\lib\\site-packages (from beautifulsoup4->yahoofinancials) (2.2.1)\n",
      "Requirement already satisfied: pandas_datareader in c:\\users\\dazyy\\anaconda3\\lib\\site-packages (0.10.0)\n",
      "Requirement already satisfied: lxml in c:\\users\\dazyy\\anaconda3\\lib\\site-packages (from pandas_datareader) (4.6.3)\n",
      "Requirement already satisfied: requests>=2.19.0 in c:\\users\\dazyy\\anaconda3\\lib\\site-packages (from pandas_datareader) (2.27.1)\n",
      "Requirement already satisfied: pandas>=0.23 in c:\\users\\dazyy\\anaconda3\\lib\\site-packages (from pandas_datareader) (1.2.4)\n",
      "Requirement already satisfied: numpy>=1.16.5 in c:\\users\\dazyy\\anaconda3\\lib\\site-packages (from pandas>=0.23->pandas_datareader) (1.20.1)\n",
      "Requirement already satisfied: python-dateutil>=2.7.3 in c:\\users\\dazyy\\anaconda3\\lib\\site-packages (from pandas>=0.23->pandas_datareader) (2.8.1)\n",
      "Requirement already satisfied: pytz>=2017.3 in c:\\users\\dazyy\\anaconda3\\lib\\site-packages (from pandas>=0.23->pandas_datareader) (2021.1)\n",
      "Requirement already satisfied: six>=1.5 in c:\\users\\dazyy\\anaconda3\\lib\\site-packages (from python-dateutil>=2.7.3->pandas>=0.23->pandas_datareader) (1.15.0)\n",
      "Requirement already satisfied: idna<4,>=2.5 in c:\\users\\dazyy\\anaconda3\\lib\\site-packages (from requests>=2.19.0->pandas_datareader) (2.10)\n",
      "Requirement already satisfied: urllib3<1.27,>=1.21.1 in c:\\users\\dazyy\\anaconda3\\lib\\site-packages (from requests>=2.19.0->pandas_datareader) (1.26.4)\n",
      "Requirement already satisfied: charset-normalizer~=2.0.0 in c:\\users\\dazyy\\anaconda3\\lib\\site-packages (from requests>=2.19.0->pandas_datareader) (2.0.12)\n",
      "Requirement already satisfied: certifi>=2017.4.17 in c:\\users\\dazyy\\anaconda3\\lib\\site-packages (from requests>=2.19.0->pandas_datareader) (2020.12.5)\n"
     ]
    }
   ],
   "source": [
    "!pip install yfinance\n",
    "!pip install yahoofinancials\n",
    "!pip install pandas_datareader\n"
   ]
  },
  {
   "cell_type": "code",
   "execution_count": 2,
   "id": "70b758e5",
   "metadata": {},
   "outputs": [],
   "source": [
    "import pandas as pd\n",
    "import numpy as np\n",
    "import yfinance as yf\n",
    "from yahoofinancials import YahooFinancials\n",
    "import pandas_datareader as pdr\n",
    "import datetime\n",
    "import matplotlib.pyplot as plt\n",
    "plt.style.use('fivethirtyeight')\n"
   ]
  },
  {
   "cell_type": "code",
   "execution_count": 3,
   "id": "8d01384b",
   "metadata": {},
   "outputs": [
    {
     "name": "stdout",
     "output_type": "stream",
     "text": [
      "[*********************100%***********************]  5 of 5 completed\n"
     ]
    },
    {
     "data": {
      "text/html": [
       "<div>\n",
       "<style scoped>\n",
       "    .dataframe tbody tr th:only-of-type {\n",
       "        vertical-align: middle;\n",
       "    }\n",
       "\n",
       "    .dataframe tbody tr th {\n",
       "        vertical-align: top;\n",
       "    }\n",
       "\n",
       "    .dataframe thead tr th {\n",
       "        text-align: left;\n",
       "    }\n",
       "\n",
       "    .dataframe thead tr:last-of-type th {\n",
       "        text-align: right;\n",
       "    }\n",
       "</style>\n",
       "<table border=\"1\" class=\"dataframe\">\n",
       "  <thead>\n",
       "    <tr>\n",
       "      <th></th>\n",
       "      <th colspan=\"5\" halign=\"left\">Adj Close</th>\n",
       "      <th colspan=\"5\" halign=\"left\">Close</th>\n",
       "      <th>...</th>\n",
       "      <th colspan=\"5\" halign=\"left\">Open</th>\n",
       "      <th colspan=\"5\" halign=\"left\">Volume</th>\n",
       "    </tr>\n",
       "    <tr>\n",
       "      <th></th>\n",
       "      <th>INFY</th>\n",
       "      <th>JPINFRATEC.NS</th>\n",
       "      <th>JPPOWER.NS</th>\n",
       "      <th>SBI</th>\n",
       "      <th>TCS</th>\n",
       "      <th>INFY</th>\n",
       "      <th>JPINFRATEC.NS</th>\n",
       "      <th>JPPOWER.NS</th>\n",
       "      <th>SBI</th>\n",
       "      <th>TCS</th>\n",
       "      <th>...</th>\n",
       "      <th>INFY</th>\n",
       "      <th>JPINFRATEC.NS</th>\n",
       "      <th>JPPOWER.NS</th>\n",
       "      <th>SBI</th>\n",
       "      <th>TCS</th>\n",
       "      <th>INFY</th>\n",
       "      <th>JPINFRATEC.NS</th>\n",
       "      <th>JPPOWER.NS</th>\n",
       "      <th>SBI</th>\n",
       "      <th>TCS</th>\n",
       "    </tr>\n",
       "    <tr>\n",
       "      <th>Date</th>\n",
       "      <th></th>\n",
       "      <th></th>\n",
       "      <th></th>\n",
       "      <th></th>\n",
       "      <th></th>\n",
       "      <th></th>\n",
       "      <th></th>\n",
       "      <th></th>\n",
       "      <th></th>\n",
       "      <th></th>\n",
       "      <th></th>\n",
       "      <th></th>\n",
       "      <th></th>\n",
       "      <th></th>\n",
       "      <th></th>\n",
       "      <th></th>\n",
       "      <th></th>\n",
       "      <th></th>\n",
       "      <th></th>\n",
       "      <th></th>\n",
       "      <th></th>\n",
       "    </tr>\n",
       "  </thead>\n",
       "  <tbody>\n",
       "    <tr>\n",
       "      <th>2018-12-31</th>\n",
       "      <td>8.828543</td>\n",
       "      <td>NaN</td>\n",
       "      <td>NaN</td>\n",
       "      <td>7.473247</td>\n",
       "      <td>4.458913</td>\n",
       "      <td>9.52</td>\n",
       "      <td>NaN</td>\n",
       "      <td>NaN</td>\n",
       "      <td>8.35</td>\n",
       "      <td>4.77</td>\n",
       "      <td>...</td>\n",
       "      <td>9.47</td>\n",
       "      <td>NaN</td>\n",
       "      <td>NaN</td>\n",
       "      <td>8.27</td>\n",
       "      <td>4.71</td>\n",
       "      <td>7229400.0</td>\n",
       "      <td>NaN</td>\n",
       "      <td>NaN</td>\n",
       "      <td>181800.0</td>\n",
       "      <td>456500.0</td>\n",
       "    </tr>\n",
       "    <tr>\n",
       "      <th>2019-01-01</th>\n",
       "      <td>NaN</td>\n",
       "      <td>3.90</td>\n",
       "      <td>2.10</td>\n",
       "      <td>NaN</td>\n",
       "      <td>NaN</td>\n",
       "      <td>NaN</td>\n",
       "      <td>3.90</td>\n",
       "      <td>2.10</td>\n",
       "      <td>NaN</td>\n",
       "      <td>NaN</td>\n",
       "      <td>...</td>\n",
       "      <td>NaN</td>\n",
       "      <td>3.80</td>\n",
       "      <td>2.05</td>\n",
       "      <td>NaN</td>\n",
       "      <td>NaN</td>\n",
       "      <td>NaN</td>\n",
       "      <td>873313.0</td>\n",
       "      <td>5148897.0</td>\n",
       "      <td>NaN</td>\n",
       "      <td>NaN</td>\n",
       "    </tr>\n",
       "    <tr>\n",
       "      <th>2019-01-02</th>\n",
       "      <td>8.912004</td>\n",
       "      <td>3.85</td>\n",
       "      <td>2.10</td>\n",
       "      <td>7.589597</td>\n",
       "      <td>4.627174</td>\n",
       "      <td>9.61</td>\n",
       "      <td>3.85</td>\n",
       "      <td>2.10</td>\n",
       "      <td>8.48</td>\n",
       "      <td>4.95</td>\n",
       "      <td>...</td>\n",
       "      <td>9.50</td>\n",
       "      <td>3.90</td>\n",
       "      <td>2.15</td>\n",
       "      <td>8.33</td>\n",
       "      <td>4.72</td>\n",
       "      <td>9818900.0</td>\n",
       "      <td>1067493.0</td>\n",
       "      <td>2461363.0</td>\n",
       "      <td>14900.0</td>\n",
       "      <td>272500.0</td>\n",
       "    </tr>\n",
       "    <tr>\n",
       "      <th>2019-01-03</th>\n",
       "      <td>8.782174</td>\n",
       "      <td>3.85</td>\n",
       "      <td>2.10</td>\n",
       "      <td>7.598546</td>\n",
       "      <td>4.608478</td>\n",
       "      <td>9.47</td>\n",
       "      <td>3.85</td>\n",
       "      <td>2.10</td>\n",
       "      <td>8.49</td>\n",
       "      <td>4.93</td>\n",
       "      <td>...</td>\n",
       "      <td>9.55</td>\n",
       "      <td>3.85</td>\n",
       "      <td>2.05</td>\n",
       "      <td>8.44</td>\n",
       "      <td>4.92</td>\n",
       "      <td>9404900.0</td>\n",
       "      <td>1509882.0</td>\n",
       "      <td>709334.0</td>\n",
       "      <td>32900.0</td>\n",
       "      <td>256800.0</td>\n",
       "    </tr>\n",
       "    <tr>\n",
       "      <th>2019-01-04</th>\n",
       "      <td>8.930553</td>\n",
       "      <td>3.90</td>\n",
       "      <td>2.05</td>\n",
       "      <td>7.589597</td>\n",
       "      <td>4.786087</td>\n",
       "      <td>9.63</td>\n",
       "      <td>3.90</td>\n",
       "      <td>2.05</td>\n",
       "      <td>8.48</td>\n",
       "      <td>5.12</td>\n",
       "      <td>...</td>\n",
       "      <td>9.52</td>\n",
       "      <td>3.80</td>\n",
       "      <td>2.05</td>\n",
       "      <td>8.50</td>\n",
       "      <td>5.01</td>\n",
       "      <td>7119000.0</td>\n",
       "      <td>1805742.0</td>\n",
       "      <td>934430.0</td>\n",
       "      <td>45500.0</td>\n",
       "      <td>217600.0</td>\n",
       "    </tr>\n",
       "  </tbody>\n",
       "</table>\n",
       "<p>5 rows × 30 columns</p>\n",
       "</div>"
      ],
      "text/plain": [
       "           Adj Close                                              Close  \\\n",
       "                INFY JPINFRATEC.NS JPPOWER.NS       SBI       TCS  INFY   \n",
       "Date                                                                      \n",
       "2018-12-31  8.828543           NaN        NaN  7.473247  4.458913  9.52   \n",
       "2019-01-01       NaN          3.90       2.10       NaN       NaN   NaN   \n",
       "2019-01-02  8.912004          3.85       2.10  7.589597  4.627174  9.61   \n",
       "2019-01-03  8.782174          3.85       2.10  7.598546  4.608478  9.47   \n",
       "2019-01-04  8.930553          3.90       2.05  7.589597  4.786087  9.63   \n",
       "\n",
       "                                                 ...  Open                \\\n",
       "           JPINFRATEC.NS JPPOWER.NS   SBI   TCS  ...  INFY JPINFRATEC.NS   \n",
       "Date                                             ...                       \n",
       "2018-12-31           NaN        NaN  8.35  4.77  ...  9.47           NaN   \n",
       "2019-01-01          3.90       2.10   NaN   NaN  ...   NaN          3.80   \n",
       "2019-01-02          3.85       2.10  8.48  4.95  ...  9.50          3.90   \n",
       "2019-01-03          3.85       2.10  8.49  4.93  ...  9.55          3.85   \n",
       "2019-01-04          3.90       2.05  8.48  5.12  ...  9.52          3.80   \n",
       "\n",
       "                                      Volume                           \\\n",
       "           JPPOWER.NS   SBI   TCS       INFY JPINFRATEC.NS JPPOWER.NS   \n",
       "Date                                                                    \n",
       "2018-12-31        NaN  8.27  4.71  7229400.0           NaN        NaN   \n",
       "2019-01-01       2.05   NaN   NaN        NaN      873313.0  5148897.0   \n",
       "2019-01-02       2.15  8.33  4.72  9818900.0     1067493.0  2461363.0   \n",
       "2019-01-03       2.05  8.44  4.92  9404900.0     1509882.0   709334.0   \n",
       "2019-01-04       2.05  8.50  5.01  7119000.0     1805742.0   934430.0   \n",
       "\n",
       "                                \n",
       "                 SBI       TCS  \n",
       "Date                            \n",
       "2018-12-31  181800.0  456500.0  \n",
       "2019-01-01       NaN       NaN  \n",
       "2019-01-02   14900.0  272500.0  \n",
       "2019-01-03   32900.0  256800.0  \n",
       "2019-01-04   45500.0  217600.0  \n",
       "\n",
       "[5 rows x 30 columns]"
      ]
     },
     "execution_count": 3,
     "metadata": {},
     "output_type": "execute_result"
    }
   ],
   "source": [
    "stocks = ['INFY', 'TCS', 'SBI','JPPOWER.NS','JPINFRATEC.NS']\n",
    "weights=np.array([0.2,0.2,0.2,0.2,0.2])\n",
    "start = datetime.datetime(2019,1,1)\n",
    "end = datetime.datetime(2021,1,1)\n",
    "data = yf.download(stocks, start=start, end=end)\n",
    "data.head()"
   ]
  },
  {
   "cell_type": "code",
   "execution_count": 4,
   "id": "4d90b77e",
   "metadata": {},
   "outputs": [
    {
     "data": {
      "text/html": [
       "<div>\n",
       "<style scoped>\n",
       "    .dataframe tbody tr th:only-of-type {\n",
       "        vertical-align: middle;\n",
       "    }\n",
       "\n",
       "    .dataframe tbody tr th {\n",
       "        vertical-align: top;\n",
       "    }\n",
       "\n",
       "    .dataframe thead th {\n",
       "        text-align: right;\n",
       "    }\n",
       "</style>\n",
       "<table border=\"1\" class=\"dataframe\">\n",
       "  <thead>\n",
       "    <tr style=\"text-align: right;\">\n",
       "      <th></th>\n",
       "      <th>INFY</th>\n",
       "      <th>JPINFRATEC.NS</th>\n",
       "      <th>JPPOWER.NS</th>\n",
       "      <th>SBI</th>\n",
       "      <th>TCS</th>\n",
       "    </tr>\n",
       "    <tr>\n",
       "      <th>Date</th>\n",
       "      <th></th>\n",
       "      <th></th>\n",
       "      <th></th>\n",
       "      <th></th>\n",
       "      <th></th>\n",
       "    </tr>\n",
       "  </thead>\n",
       "  <tbody>\n",
       "    <tr>\n",
       "      <th>2018-12-31</th>\n",
       "      <td>9.52</td>\n",
       "      <td>NaN</td>\n",
       "      <td>NaN</td>\n",
       "      <td>8.35</td>\n",
       "      <td>4.77</td>\n",
       "    </tr>\n",
       "    <tr>\n",
       "      <th>2019-01-01</th>\n",
       "      <td>NaN</td>\n",
       "      <td>3.90</td>\n",
       "      <td>2.10</td>\n",
       "      <td>NaN</td>\n",
       "      <td>NaN</td>\n",
       "    </tr>\n",
       "    <tr>\n",
       "      <th>2019-01-02</th>\n",
       "      <td>9.61</td>\n",
       "      <td>3.85</td>\n",
       "      <td>2.10</td>\n",
       "      <td>8.48</td>\n",
       "      <td>4.95</td>\n",
       "    </tr>\n",
       "    <tr>\n",
       "      <th>2019-01-03</th>\n",
       "      <td>9.47</td>\n",
       "      <td>3.85</td>\n",
       "      <td>2.10</td>\n",
       "      <td>8.49</td>\n",
       "      <td>4.93</td>\n",
       "    </tr>\n",
       "    <tr>\n",
       "      <th>2019-01-04</th>\n",
       "      <td>9.63</td>\n",
       "      <td>3.90</td>\n",
       "      <td>2.05</td>\n",
       "      <td>8.48</td>\n",
       "      <td>5.12</td>\n",
       "    </tr>\n",
       "  </tbody>\n",
       "</table>\n",
       "</div>"
      ],
      "text/plain": [
       "            INFY  JPINFRATEC.NS  JPPOWER.NS   SBI   TCS\n",
       "Date                                                   \n",
       "2018-12-31  9.52            NaN         NaN  8.35  4.77\n",
       "2019-01-01   NaN           3.90        2.10   NaN   NaN\n",
       "2019-01-02  9.61           3.85        2.10  8.48  4.95\n",
       "2019-01-03  9.47           3.85        2.10  8.49  4.93\n",
       "2019-01-04  9.63           3.90        2.05  8.48  5.12"
      ]
     },
     "execution_count": 4,
     "metadata": {},
     "output_type": "execute_result"
    }
   ],
   "source": [
    "df=pd.DataFrame(data)['Close']\n",
    "df.head()\n",
    "\n",
    "  \n"
   ]
  },
  {
   "cell_type": "code",
   "execution_count": 5,
   "id": "a577c23a",
   "metadata": {},
   "outputs": [
    {
     "data": {
      "image/png": "[encoded data removed]",
      "text/plain": [
       "<Figure size 432x288 with 1 Axes>"
      ]
     },
     "metadata": {},
     "output_type": "display_data"
    }
   ],
   "source": [
    "title='Portfolio Close price'\n",
    "for i in df.columns.values:\n",
    "    plt.plot(df[i],label=i)\n",
    "    \n",
    "plt.title (title)\n",
    "plt.xlabel('Date',fontsize=18)\n",
    "plt.ylabel('close price USD($)',fontsize=18)\n",
    "plt.legend(df.columns.values,loc='upper left')\n",
    "plt.show()\n",
    "    "
   ]
  },
  {
   "cell_type": "code",
   "execution_count": 6,
   "id": "a913b80a",
   "metadata": {},
   "outputs": [
    {
     "data": {
      "text/html": [
       "<div>\n",
       "<style scoped>\n",
       "    .dataframe tbody tr th:only-of-type {\n",
       "        vertical-align: middle;\n",
       "    }\n",
       "\n",
       "    .dataframe tbody tr th {\n",
       "        vertical-align: top;\n",
       "    }\n",
       "\n",
       "    .dataframe thead th {\n",
       "        text-align: right;\n",
       "    }\n",
       "</style>\n",
       "<table border=\"1\" class=\"dataframe\">\n",
       "  <thead>\n",
       "    <tr style=\"text-align: right;\">\n",
       "      <th></th>\n",
       "      <th>INFY</th>\n",
       "      <th>JPINFRATEC.NS</th>\n",
       "      <th>JPPOWER.NS</th>\n",
       "      <th>SBI</th>\n",
       "      <th>TCS</th>\n",
       "    </tr>\n",
       "    <tr>\n",
       "      <th>Date</th>\n",
       "      <th></th>\n",
       "      <th></th>\n",
       "      <th></th>\n",
       "      <th></th>\n",
       "      <th></th>\n",
       "    </tr>\n",
       "  </thead>\n",
       "  <tbody>\n",
       "    <tr>\n",
       "      <th>2018-12-31</th>\n",
       "      <td>NaN</td>\n",
       "      <td>NaN</td>\n",
       "      <td>NaN</td>\n",
       "      <td>NaN</td>\n",
       "      <td>NaN</td>\n",
       "    </tr>\n",
       "    <tr>\n",
       "      <th>2019-01-01</th>\n",
       "      <td>0.000000</td>\n",
       "      <td>NaN</td>\n",
       "      <td>NaN</td>\n",
       "      <td>0.000000</td>\n",
       "      <td>0.000000</td>\n",
       "    </tr>\n",
       "    <tr>\n",
       "      <th>2019-01-02</th>\n",
       "      <td>0.009454</td>\n",
       "      <td>-0.012821</td>\n",
       "      <td>0.00000</td>\n",
       "      <td>0.015569</td>\n",
       "      <td>0.037736</td>\n",
       "    </tr>\n",
       "    <tr>\n",
       "      <th>2019-01-03</th>\n",
       "      <td>-0.014568</td>\n",
       "      <td>0.000000</td>\n",
       "      <td>0.00000</td>\n",
       "      <td>0.001179</td>\n",
       "      <td>-0.004040</td>\n",
       "    </tr>\n",
       "    <tr>\n",
       "      <th>2019-01-04</th>\n",
       "      <td>0.016895</td>\n",
       "      <td>0.012987</td>\n",
       "      <td>-0.02381</td>\n",
       "      <td>-0.001178</td>\n",
       "      <td>0.038540</td>\n",
       "    </tr>\n",
       "  </tbody>\n",
       "</table>\n",
       "</div>"
      ],
      "text/plain": [
       "                INFY  JPINFRATEC.NS  JPPOWER.NS       SBI       TCS\n",
       "Date                                                               \n",
       "2018-12-31       NaN            NaN         NaN       NaN       NaN\n",
       "2019-01-01  0.000000            NaN         NaN  0.000000  0.000000\n",
       "2019-01-02  0.009454      -0.012821     0.00000  0.015569  0.037736\n",
       "2019-01-03 -0.014568       0.000000     0.00000  0.001179 -0.004040\n",
       "2019-01-04  0.016895       0.012987    -0.02381 -0.001178  0.038540"
      ]
     },
     "execution_count": 6,
     "metadata": {},
     "output_type": "execute_result"
    }
   ],
   "source": [
    "returns=df.pct_change()\n",
    "returns.head()"
   ]
  },
  {
   "cell_type": "code",
   "execution_count": 7,
   "id": "0c29e728",
   "metadata": {},
   "outputs": [
    {
     "data": {
      "text/html": [
       "<div>\n",
       "<style scoped>\n",
       "    .dataframe tbody tr th:only-of-type {\n",
       "        vertical-align: middle;\n",
       "    }\n",
       "\n",
       "    .dataframe tbody tr th {\n",
       "        vertical-align: top;\n",
       "    }\n",
       "\n",
       "    .dataframe thead th {\n",
       "        text-align: right;\n",
       "    }\n",
       "</style>\n",
       "<table border=\"1\" class=\"dataframe\">\n",
       "  <thead>\n",
       "    <tr style=\"text-align: right;\">\n",
       "      <th></th>\n",
       "      <th>INFY</th>\n",
       "      <th>JPINFRATEC.NS</th>\n",
       "      <th>JPPOWER.NS</th>\n",
       "      <th>SBI</th>\n",
       "      <th>TCS</th>\n",
       "    </tr>\n",
       "  </thead>\n",
       "  <tbody>\n",
       "    <tr>\n",
       "      <th>INFY</th>\n",
       "      <td>0.120478</td>\n",
       "      <td>0.006574</td>\n",
       "      <td>0.004640</td>\n",
       "      <td>0.015393</td>\n",
       "      <td>0.080028</td>\n",
       "    </tr>\n",
       "    <tr>\n",
       "      <th>JPINFRATEC.NS</th>\n",
       "      <td>0.006574</td>\n",
       "      <td>0.452559</td>\n",
       "      <td>0.205408</td>\n",
       "      <td>0.002726</td>\n",
       "      <td>-0.004325</td>\n",
       "    </tr>\n",
       "    <tr>\n",
       "      <th>JPPOWER.NS</th>\n",
       "      <td>0.004640</td>\n",
       "      <td>0.205408</td>\n",
       "      <td>0.526338</td>\n",
       "      <td>0.009913</td>\n",
       "      <td>-0.046473</td>\n",
       "    </tr>\n",
       "    <tr>\n",
       "      <th>SBI</th>\n",
       "      <td>0.015393</td>\n",
       "      <td>0.002726</td>\n",
       "      <td>0.009913</td>\n",
       "      <td>0.015386</td>\n",
       "      <td>0.015835</td>\n",
       "    </tr>\n",
       "    <tr>\n",
       "      <th>TCS</th>\n",
       "      <td>0.080028</td>\n",
       "      <td>-0.004325</td>\n",
       "      <td>-0.046473</td>\n",
       "      <td>0.015835</td>\n",
       "      <td>0.716254</td>\n",
       "    </tr>\n",
       "  </tbody>\n",
       "</table>\n",
       "</div>"
      ],
      "text/plain": [
       "                   INFY  JPINFRATEC.NS  JPPOWER.NS       SBI       TCS\n",
       "INFY           0.120478       0.006574    0.004640  0.015393  0.080028\n",
       "JPINFRATEC.NS  0.006574       0.452559    0.205408  0.002726 -0.004325\n",
       "JPPOWER.NS     0.004640       0.205408    0.526338  0.009913 -0.046473\n",
       "SBI            0.015393       0.002726    0.009913  0.015386  0.015835\n",
       "TCS            0.080028      -0.004325   -0.046473  0.015835  0.716254"
      ]
     },
     "execution_count": 7,
     "metadata": {},
     "output_type": "execute_result"
    }
   ],
   "source": [
    "#annualised covariace matrix\n",
    "cov_matrix_annual=returns.cov()*252\n",
    "cov_matrix_annual"
   ]
  },
  {
   "cell_type": "code",
   "execution_count": 8,
   "id": "a6b42f0b",
   "metadata": {},
   "outputs": [
    {
     "data": {
      "text/plain": [
       "0.0964182216232909"
      ]
     },
     "execution_count": 8,
     "metadata": {},
     "output_type": "execute_result"
    }
   ],
   "source": [
    "port_variance=np.dot(weights.T,np.dot(cov_matrix_annual,weights))\n",
    "port_variance"
   ]
  },
  {
   "cell_type": "code",
   "execution_count": 9,
   "id": "e07df878",
   "metadata": {},
   "outputs": [
    {
     "data": {
      "text/plain": [
       "0.3105128364871425"
      ]
     },
     "execution_count": 9,
     "metadata": {},
     "output_type": "execute_result"
    }
   ],
   "source": [
    "port_volatility=np.sqrt(port_variance)\n",
    "port_volatility"
   ]
  },
  {
   "cell_type": "code",
   "execution_count": 10,
   "id": "6534ff8e",
   "metadata": {},
   "outputs": [
    {
     "data": {
      "text/plain": [
       "0.2935573441971848"
      ]
     },
     "execution_count": 10,
     "metadata": {},
     "output_type": "execute_result"
    }
   ],
   "source": [
    "#annual portfolio return\n",
    "portfoliosimpleannualreturn=np.sum(returns.mean()*weights)*252\n",
    "portfoliosimpleannualreturn"
   ]
  },
  {
   "cell_type": "code",
   "execution_count": 11,
   "id": "e182dd2a",
   "metadata": {},
   "outputs": [
    {
     "name": "stdout",
     "output_type": "stream",
     "text": [
      "Expected annual return: 28.999999999999996%\n",
      "Annual volatility/risk: 31.0%\n",
      "Annual variance: 10.0%\n"
     ]
    }
   ],
   "source": [
    "#expected annual return,volatality(risk),and variance\n",
    "port_var=str(round(port_variance,2)*100)+ '%'\n",
    "port_volat=str(round(port_volatility,2)*100)+ '%'\n",
    "port_ret=str(round(portfoliosimpleannualreturn,2)*100)+'%'\n",
    "print('Expected annual return: '+ port_ret)\n",
    "print('Annual volatility/risk: '+ port_volat)\n",
    "print('Annual variance: '+ port_var)"
   ]
  },
  {
   "cell_type": "code",
   "execution_count": 12,
   "id": "5bbdccfc",
   "metadata": {
    "scrolled": true
   },
   "outputs": [
    {
     "name": "stdout",
     "output_type": "stream",
     "text": [
      "Requirement already satisfied: PyPortfolioOpt in c:\\users\\dazyy\\anaconda3\\lib\\site-packages (1.5.2)\n",
      "Requirement already satisfied: numpy<2.0,>=1.12 in c:\\users\\dazyy\\anaconda3\\lib\\site-packages (from PyPortfolioOpt) (1.20.1)\n",
      "Requirement already satisfied: pandas>=0.19 in c:\\users\\dazyy\\anaconda3\\lib\\site-packages (from PyPortfolioOpt) (1.2.4)\n",
      "Requirement already satisfied: cvxpy<2.0.0,>=1.1.10 in c:\\users\\dazyy\\anaconda3\\lib\\site-packages (from PyPortfolioOpt) (1.2.0)\n",
      "Requirement already satisfied: scipy<2.0,>=1.3 in c:\\users\\dazyy\\anaconda3\\lib\\site-packages (from PyPortfolioOpt) (1.6.2)\n",
      "Requirement already satisfied: ecos>=2 in c:\\users\\dazyy\\anaconda3\\lib\\site-packages (from cvxpy<2.0.0,>=1.1.10->PyPortfolioOpt) (2.0.10)\n",
      "Requirement already satisfied: scs>=1.1.6 in c:\\users\\dazyy\\anaconda3\\lib\\site-packages (from cvxpy<2.0.0,>=1.1.10->PyPortfolioOpt) (3.2.0)\n",
      "Requirement already satisfied: osqp>=0.4.1 in c:\\users\\dazyy\\anaconda3\\lib\\site-packages (from cvxpy<2.0.0,>=1.1.10->PyPortfolioOpt) (0.6.2.post5)\n",
      "Requirement already satisfied: qdldl in c:\\users\\dazyy\\anaconda3\\lib\\site-packages (from osqp>=0.4.1->cvxpy<2.0.0,>=1.1.10->PyPortfolioOpt) (0.1.5.post2)\n",
      "Requirement already satisfied: python-dateutil>=2.7.3 in c:\\users\\dazyy\\anaconda3\\lib\\site-packages (from pandas>=0.19->PyPortfolioOpt) (2.8.1)\n",
      "Requirement already satisfied: pytz>=2017.3 in c:\\users\\dazyy\\anaconda3\\lib\\site-packages (from pandas>=0.19->PyPortfolioOpt) (2021.1)\n",
      "Requirement already satisfied: six>=1.5 in c:\\users\\dazyy\\anaconda3\\lib\\site-packages (from python-dateutil>=2.7.3->pandas>=0.19->PyPortfolioOpt) (1.15.0)\n",
      "Note: you may need to restart the kernel to use updated packages.\n"
     ]
    }
   ],
   "source": [
    "pip install PyPortfolioOpt"
   ]
  },
  {
   "cell_type": "code",
   "execution_count": 13,
   "id": "39a0ec77",
   "metadata": {},
   "outputs": [],
   "source": [
    "from pypfopt.efficient_frontier import EfficientFrontier\n",
    "from pypfopt import risk_models\n",
    "from pypfopt import expected_returns"
   ]
  },
  {
   "cell_type": "markdown",
   "id": "a849e432",
   "metadata": {},
   "source": [
    "# PORTFOLIO OPTIMIZATION !"
   ]
  },
  {
   "cell_type": "code",
   "execution_count": 14,
   "id": "465d95db",
   "metadata": {},
   "outputs": [],
   "source": [
    "#Calculate the expected returns and annualised sample covraice matrix of asset return\n",
    "mu=expected_returns.mean_historical_return(df)\n",
    "S=risk_models.sample_cov(df)"
   ]
  },
  {
   "cell_type": "code",
   "execution_count": 15,
   "id": "75b1a6fb",
   "metadata": {},
   "outputs": [
    {
     "name": "stdout",
     "output_type": "stream",
     "text": [
      "OrderedDict([('INFY', 0.767), ('JPINFRATEC.NS', 0.0), ('JPPOWER.NS', 0.13329), ('SBI', 0.0), ('TCS', 0.09971)])\n",
      "Expected annual return: 31.8%\n",
      "Annual volatility: 31.5%\n",
      "Sharpe Ratio: 0.95\n"
     ]
    },
    {
     "data": {
      "text/plain": [
       "(0.31815022496606515, 0.31512143663943476, 0.9461438997792199)"
      ]
     },
     "execution_count": 15,
     "metadata": {},
     "output_type": "execute_result"
    }
   ],
   "source": [
    "# optimize for max Sharpe ratio\n",
    "ef=EfficientFrontier(mu,S)\n",
    "weights=ef.max_sharpe()\n",
    "cleaned_weights=ef.clean_weights()\n",
    "print(cleaned_weights)\n",
    "ef.portfolio_performance(verbose=True)"
   ]
  },
  {
   "cell_type": "markdown",
   "id": "7b6fe14e",
   "metadata": {},
   "source": [
    "### This time we show that by using Sharpe ratio we got higher return than the previous one; "
   ]
  },
  {
   "cell_type": "code",
   "execution_count": 16,
   "id": "4b903401",
   "metadata": {},
   "outputs": [
    {
     "name": "stdout",
     "output_type": "stream",
     "text": [
      "Requirement already satisfied: cvxpy in c:\\users\\dazyy\\anaconda3\\lib\\site-packages (1.2.0)\n",
      "Requirement already satisfied: scipy>=1.1.0 in c:\\users\\dazyy\\anaconda3\\lib\\site-packages (from cvxpy) (1.6.2)\n",
      "Requirement already satisfied: numpy>=1.15 in c:\\users\\dazyy\\anaconda3\\lib\\site-packages (from cvxpy) (1.20.1)\n",
      "Requirement already satisfied: osqp>=0.4.1 in c:\\users\\dazyy\\anaconda3\\lib\\site-packages (from cvxpy) (0.6.2.post5)\n",
      "Requirement already satisfied: scs>=1.1.6 in c:\\users\\dazyy\\anaconda3\\lib\\site-packages (from cvxpy) (3.2.0)\n",
      "Requirement already satisfied: ecos>=2 in c:\\users\\dazyy\\anaconda3\\lib\\site-packages (from cvxpy) (2.0.10)\n",
      "Requirement already satisfied: qdldl in c:\\users\\dazyy\\anaconda3\\lib\\site-packages (from osqp>=0.4.1->cvxpy) (0.1.5.post2)\n",
      "Requirement already satisfied: cvxopt in c:\\users\\dazyy\\anaconda3\\lib\\site-packages (1.3.0)\n"
     ]
    }
   ],
   "source": [
    "!pip install cvxpy\n",
    "!pip install cvxopt"
   ]
  },
  {
   "cell_type": "code",
   "execution_count": 17,
   "id": "946cd5c4",
   "metadata": {},
   "outputs": [
    {
     "name": "stdout",
     "output_type": "stream",
     "text": [
      "Discre allocation: {'INFY': 1131, 'JPPOWER.NS': 1042, 'TCS': 261}\n",
      "Funds remaining: $ 5.21\n"
     ]
    }
   ],
   "source": [
    "#Get discrete allocation of each share per stock\n",
    "from pypfopt.discrete_allocation import DiscreteAllocation ,get_latest_prices\n",
    "latest_prices = get_latest_prices(df)\n",
    "weights=cleaned_weights\n",
    "da=DiscreteAllocation(weights,latest_prices,total_portfolio_value = 25000)\n",
    "\n",
    "allocation, leftover = da.lp_portfolio()\n",
    "print('Discre allocation:',allocation)\n",
    "print('Funds remaining: ${: .2f}'.format(leftover))"
   ]
  },
  {
   "cell_type": "code",
   "execution_count": null,
   "id": "2651d1ad",
   "metadata": {},
   "outputs": [],
   "source": []
  }
 ],
 "metadata": {
  "kernelspec": {
   "display_name": "Python 3",
   "language": "python",
   "name": "python3"
  },
  "language_info": {
   "codemirror_mode": {
    "name": "ipython",
    "version": 3
   },
   "file_extension": ".py",
   "mimetype": "text/x-python",
   "name": "python",
   "nbconvert_exporter": "python",
   "pygments_lexer": "ipython3",
   "version": "3.8.8"
  }
 },
 "nbformat": 4,
 "nbformat_minor": 5
}
